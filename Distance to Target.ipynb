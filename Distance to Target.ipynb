{
 "cells": [
  {
   "cell_type": "code",
   "execution_count": 1,
   "metadata": {},
   "outputs": [],
   "source": [
    "import re\n",
    "import math\n",
    "import pandas as pd\n",
    "import numpy as np\n",
    "import matplotlib.animation as animation\n",
    "import matplotlib.pyplot as plt\n",
    "from matplotlib.patches import Rectangle\n",
    "from tqdm import tqdm\n",
    "\n",
    "pd.set_option('display.max_columns', 1000)\n",
    "pd.set_option('display.max_colwidth', 1000)\n",
    "pd.set_option('display.max_rows', 1000)\n",
    "plt.rcParams[\"animation.html\"] = \"jshtml\"\n",
    "plt.rcParams['figure.dpi'] = 150  \n",
    "plt.ioff()"
   ]
  },
  {
   "cell_type": "code",
   "execution_count": 2,
   "metadata": {},
   "outputs": [],
   "source": [
    "games = pd.read_csv(\"./data/games.csv\")\n",
    "players = pd.read_csv(\"./data/players.csv\")\n",
    "plays = pd.read_csv(\"./data/plays_with_target.csv\")\n",
    "weeks = [] \n",
    "for i in range(1,18):\n",
    "    weeks.append(pd.read_csv(\"./data/week{}.csv\".format(i)))"
   ]
  },
  {
   "cell_type": "code",
   "execution_count": 3,
   "metadata": {},
   "outputs": [],
   "source": [
    "def posession(plays_row):\n",
    "    if games.query(\"gameId=={}\".format(plays_row.gameId)).visitorTeamAbbr.iloc[0] == plays_row.possessionTeam:\n",
    "        return 'away'\n",
    "    else:\n",
    "        return 'home'\n",
    "    \n",
    "def get_week(gameID, playID):\n",
    "    return games.query(\"gameId=={}\".format(gameID)).iloc[0].week - 1\n",
    "    \n",
    "def get_week_df(gameID, playID):\n",
    "    wk = get_week(gameID, playID)\n",
    "    week_df = weeks[wk]\n",
    "    information = week_df[(week_df.playId==playID)&(week_df.gameId==gameID)]\n",
    "    return information, wk\n",
    "\n",
    "# this function requires 'plays' dataframe\n",
    "def animate_play(gameID, playID):\n",
    "    plt.close('all')\n",
    "    fig, ax = plt.subplots()\n",
    "    fig.set_figheight(7)\n",
    "    fig.set_figwidth(14)\n",
    "    \n",
    "    information, wk = get_week_df(gameID, playID)\n",
    "    max_frame = information.frameId.max()\n",
    "    print(\"GAME: {}\\tPLAY: {}\\tWEEK: {}\\tFRAME: {}\".format(gameID, playID, wk, max_frame))\n",
    "    \n",
    "    home, = ax.plot([],[], linestyle='None', marker='o', markersize=12, c='C0')\n",
    "    away, = ax.plot([],[], linestyle='None', marker='o', markersize=12, c='C1')\n",
    "    foot, = ax.plot([],[], linestyle='None', marker='o', markersize=12, c='C2')\n",
    "    lines = [home, away, foot]\n",
    "    \n",
    "    def draw_field():\n",
    "        ax.set_xlim(0, 120)\n",
    "        ax.set_ylim(-5, 58.3)\n",
    "        # Endzones\n",
    "        ax.add_patch(Rectangle((  0, 0), width=10, height=53.3, alpha=0.5, color='grey'))\n",
    "        ax.add_patch(Rectangle((110, 0), width=10, height=53.3, alpha=0.5, color='grey'))\n",
    "        # Sidelines\n",
    "        ax.plot([0,120],[0,0], c='grey', linewidth=2)\n",
    "        ax.plot([0,120],[53.3,53.3], c='grey', linewidth=2)\n",
    "        for i in range(10, 120, 10):\n",
    "            # 10 Yard lines\n",
    "            ax.plot([i,i],[0,53.3], c='grey', linewidth=2)\n",
    "            if abs(60-i) <=40:\n",
    "                # Numbers\n",
    "                ax.text(i-2.5, 12, str(50-abs(60-i)), color=\"grey\", fontsize=24)\n",
    "                ax.text(i-2.5, 41.3, str(50-abs(60-i)), color=\"grey\", fontsize=24, rotation=180)\n",
    "        # Hash marks\n",
    "        for i in range(10, 110):\n",
    "            ax.plot([i,i], [0, 1], c='grey')\n",
    "            ax.plot([i,i], [23, 24], c='grey')\n",
    "            ax.plot([i,i], [29.3, 30.3], c='grey')\n",
    "            ax.plot([i,i], [52.3, 53.3], c='grey')\n",
    "        \n",
    "        # Drawing the line of scrimmage\n",
    "        scrimmage = information.query(\"frameId==1 and displayName=='Football'\").iloc[0].x\n",
    "        ax.plot([scrimmage,scrimmage],[0, 53.3], c='darkblue', linewidth=2)\n",
    "        \n",
    "        # Drawing the First Down Line\n",
    "        play_information = plays.query(\"playId=={} and gameId=={}\".format(playID, gameID)).iloc[0]\n",
    "        ax.set_title(play_information.playDescription)\n",
    "        home_team = games[games.gameId==gameID].iloc[0].homeTeamAbbr\n",
    "        poss_team = play_information.possessionTeam\n",
    "        team_query_term = \"home\"\n",
    "        if home_team != poss_team:\n",
    "            team_query_term = \"away\"\n",
    "        shit = information.query(\"frameId==1 and team=='{}'\".format(team_query_term)).iloc[0].x\n",
    "        first_down_line = scrimmage - play_information.yardsToGo\n",
    "        if shit < scrimmage:\n",
    "            first_down_line = scrimmage + play_information.yardsToGo\n",
    "        ax.plot([first_down_line,first_down_line],[0, 53.3], c='gold', linewidth=2)\n",
    "        return lines\n",
    "\n",
    "    def plot_players(t):\n",
    "        home_filtered = information[(information.frameId==t)&(information.team==\"home\")]\n",
    "        away_filtered = information[(information.frameId==t)&(information.team==\"away\")]\n",
    "        foot_filtered = information[(information.frameId==t)&(information.team==\"football\")]\n",
    "        home.set_data(home_filtered.x.array, home_filtered.y.array)\n",
    "        away.set_data(away_filtered.x.array, away_filtered.y.array)\n",
    "        foot.set_data(foot_filtered.x.array, foot_filtered.y.array)\n",
    "        lines = [home, away, foot]\n",
    "        \n",
    "        if t%10 == 0:\n",
    "            print(t,end = ',')\n",
    "        return lines\n",
    "    \n",
    "    return animation.FuncAnimation(fig, plot_players, frames=range(1, max_frame+1), init_func=draw_field, blit=True)\n",
    "    #return animation.FuncAnimation(fig, plot_players, frames=range(20, 21), init_func=draw_field, blit=True)"
   ]
  },
  {
   "cell_type": "code",
   "execution_count": 4,
   "metadata": {},
   "outputs": [
    {
     "data": {
      "text/html": [
       "<div>\n",
       "<style scoped>\n",
       "    .dataframe tbody tr th:only-of-type {\n",
       "        vertical-align: middle;\n",
       "    }\n",
       "\n",
       "    .dataframe tbody tr th {\n",
       "        vertical-align: top;\n",
       "    }\n",
       "\n",
       "    .dataframe thead th {\n",
       "        text-align: right;\n",
       "    }\n",
       "</style>\n",
       "<table border=\"1\" class=\"dataframe\">\n",
       "  <thead>\n",
       "    <tr style=\"text-align: right;\">\n",
       "      <th></th>\n",
       "      <th>Unnamed: 0</th>\n",
       "      <th>gameId</th>\n",
       "      <th>playId</th>\n",
       "      <th>playDescription</th>\n",
       "      <th>quarter</th>\n",
       "      <th>down</th>\n",
       "      <th>yardsToGo</th>\n",
       "      <th>possessionTeam</th>\n",
       "      <th>playType</th>\n",
       "      <th>yardlineSide</th>\n",
       "      <th>yardlineNumber</th>\n",
       "      <th>offenseFormation</th>\n",
       "      <th>personnelO</th>\n",
       "      <th>defendersInTheBox</th>\n",
       "      <th>numberOfPassRushers</th>\n",
       "      <th>personnelD</th>\n",
       "      <th>typeDropback</th>\n",
       "      <th>preSnapVisitorScore</th>\n",
       "      <th>preSnapHomeScore</th>\n",
       "      <th>gameClock</th>\n",
       "      <th>absoluteYardlineNumber</th>\n",
       "      <th>penaltyCodes</th>\n",
       "      <th>penaltyJerseyNumbers</th>\n",
       "      <th>passResult</th>\n",
       "      <th>offensePlayResult</th>\n",
       "      <th>playResult</th>\n",
       "      <th>epa</th>\n",
       "      <th>isDefensivePI</th>\n",
       "      <th>target</th>\n",
       "    </tr>\n",
       "  </thead>\n",
       "  <tbody>\n",
       "    <tr>\n",
       "      <th>0</th>\n",
       "      <td>0</td>\n",
       "      <td>2018090600</td>\n",
       "      <td>75</td>\n",
       "      <td>(15:00) M.Ryan pass short right to J.Jones pushed ob at ATL 30 for 10 yards (M.Jenkins).</td>\n",
       "      <td>1</td>\n",
       "      <td>1</td>\n",
       "      <td>15</td>\n",
       "      <td>ATL</td>\n",
       "      <td>play_type_pass</td>\n",
       "      <td>ATL</td>\n",
       "      <td>20</td>\n",
       "      <td>I_FORM</td>\n",
       "      <td>2 RB, 1 TE, 2 WR</td>\n",
       "      <td>7.0</td>\n",
       "      <td>4.0</td>\n",
       "      <td>4 DL, 2 LB, 5 DB</td>\n",
       "      <td>TRADITIONAL</td>\n",
       "      <td>0.0</td>\n",
       "      <td>0.0</td>\n",
       "      <td>15:00:00</td>\n",
       "      <td>90.0</td>\n",
       "      <td>NaN</td>\n",
       "      <td>NaN</td>\n",
       "      <td>C</td>\n",
       "      <td>10</td>\n",
       "      <td>10</td>\n",
       "      <td>0.261827</td>\n",
       "      <td>False</td>\n",
       "      <td>Julio Jones</td>\n",
       "    </tr>\n",
       "  </tbody>\n",
       "</table>\n",
       "</div>"
      ],
      "text/plain": [
       "   Unnamed: 0      gameId  playId  \\\n",
       "0           0  2018090600      75   \n",
       "\n",
       "                                                                            playDescription  \\\n",
       "0  (15:00) M.Ryan pass short right to J.Jones pushed ob at ATL 30 for 10 yards (M.Jenkins).   \n",
       "\n",
       "   quarter  down  yardsToGo possessionTeam        playType yardlineSide  \\\n",
       "0        1     1         15            ATL  play_type_pass          ATL   \n",
       "\n",
       "   yardlineNumber offenseFormation        personnelO  defendersInTheBox  \\\n",
       "0              20           I_FORM  2 RB, 1 TE, 2 WR                7.0   \n",
       "\n",
       "   numberOfPassRushers        personnelD typeDropback  preSnapVisitorScore  \\\n",
       "0                  4.0  4 DL, 2 LB, 5 DB  TRADITIONAL                  0.0   \n",
       "\n",
       "   preSnapHomeScore gameClock  absoluteYardlineNumber penaltyCodes  \\\n",
       "0               0.0  15:00:00                    90.0          NaN   \n",
       "\n",
       "  penaltyJerseyNumbers passResult  offensePlayResult  playResult       epa  \\\n",
       "0                  NaN          C                 10          10  0.261827   \n",
       "\n",
       "   isDefensivePI       target  \n",
       "0          False  Julio Jones  "
      ]
     },
     "execution_count": 4,
     "metadata": {},
     "output_type": "execute_result"
    }
   ],
   "source": [
    "plays.head(1)"
   ]
  },
  {
   "cell_type": "code",
   "execution_count": 8,
   "metadata": {},
   "outputs": [
    {
     "name": "stderr",
     "output_type": "stream",
     "text": [
      "100%|████████████████████████████████████████████████████████████████████████████| 19239/19239 [10:15<00:00, 31.25it/s]\n",
      "  0%|                                                                          | 1329/986022 [00:00<02:28, 6648.75it/s]"
     ]
    },
    {
     "name": "stdout",
     "output_type": "stream",
     "text": [
      "0  started.\n"
     ]
    },
    {
     "name": "stderr",
     "output_type": "stream",
     "text": [
      "100%|████████████████████████████████████████████████████████████████████████| 986022/986022 [02:30<00:00, 6536.57it/s]\n",
      "  0%|                                                                          | 704/1231793 [00:00<02:54, 7037.14it/s]"
     ]
    },
    {
     "name": "stdout",
     "output_type": "stream",
     "text": [
      "1  started.\n"
     ]
    },
    {
     "name": "stderr",
     "output_type": "stream",
     "text": [
      "100%|██████████████████████████████████████████████████████████████████████| 1231793/1231793 [03:05<00:00, 6653.98it/s]\n",
      "  0%|                                                                          | 632/1168345 [00:00<03:04, 6319.89it/s]"
     ]
    },
    {
     "name": "stdout",
     "output_type": "stream",
     "text": [
      "2  started.\n"
     ]
    },
    {
     "name": "stderr",
     "output_type": "stream",
     "text": [
      "100%|██████████████████████████████████████████████████████████████████████| 1168345/1168345 [02:54<00:00, 6694.25it/s]\n",
      "  0%|                                                                          | 678/1205527 [00:00<02:57, 6772.32it/s]"
     ]
    },
    {
     "name": "stdout",
     "output_type": "stream",
     "text": [
      "3  started.\n"
     ]
    },
    {
     "name": "stderr",
     "output_type": "stream",
     "text": [
      "100%|██████████████████████████████████████████████████████████████████████| 1205527/1205527 [03:00<00:00, 6668.75it/s]\n",
      "  0%|                                                                          | 664/1171908 [00:00<02:58, 6574.41it/s]"
     ]
    },
    {
     "name": "stdout",
     "output_type": "stream",
     "text": [
      "4  started.\n"
     ]
    },
    {
     "name": "stderr",
     "output_type": "stream",
     "text": [
      "100%|██████████████████████████████████████████████████████████████████████| 1171908/1171908 [02:54<00:00, 6698.41it/s]\n",
      "  0%|                                                                          | 687/1072563 [00:00<02:37, 6801.98it/s]"
     ]
    },
    {
     "name": "stdout",
     "output_type": "stream",
     "text": [
      "5  started.\n"
     ]
    },
    {
     "name": "stderr",
     "output_type": "stream",
     "text": [
      "100%|██████████████████████████████████████████████████████████████████████| 1072563/1072563 [02:41<00:00, 6631.05it/s]\n",
      "  0%|                                                                           | 604/982583 [00:00<02:42, 6034.77it/s]"
     ]
    },
    {
     "name": "stdout",
     "output_type": "stream",
     "text": [
      "6  started.\n"
     ]
    },
    {
     "name": "stderr",
     "output_type": "stream",
     "text": [
      "100%|████████████████████████████████████████████████████████████████████████| 982583/982583 [02:29<00:00, 6584.40it/s]\n",
      "  0%|                                                                                                                                                         | 752/1001501 [00:00<02:14, 7445.50it/s]"
     ]
    },
    {
     "name": "stdout",
     "output_type": "stream",
     "text": [
      "7  started.\n"
     ]
    },
    {
     "name": "stderr",
     "output_type": "stream",
     "text": [
      "100%|█████████████████████████████████████████████████████████████████████████████████████████████████████████████████████████████████████████████████████| 1001501/1001501 [02:16<00:00, 7350.04it/s]\n",
      "  0%|                                                                                                                                                          | 749/958464 [00:00<02:09, 7417.48it/s]"
     ]
    },
    {
     "name": "stdout",
     "output_type": "stream",
     "text": [
      "8  started.\n"
     ]
    },
    {
     "name": "stderr",
     "output_type": "stream",
     "text": [
      "100%|███████████████████████████████████████████████████████████████████████████████████████████████████████████████████████████████████████████████████████| 958464/958464 [02:15<00:00, 7086.53it/s]\n",
      "  0%|▏                                                                                                                                                        | 1518/964889 [00:00<02:08, 7522.79it/s]"
     ]
    },
    {
     "name": "stdout",
     "output_type": "stream",
     "text": [
      "9  started.\n"
     ]
    },
    {
     "name": "stderr",
     "output_type": "stream",
     "text": [
      "100%|███████████████████████████████████████████████████████████████████████████████████████████████████████████████████████████████████████████████████████| 964889/964889 [02:10<00:00, 7420.37it/s]\n",
      "  0%|▏                                                                                                                                                        | 1427/932240 [00:00<02:10, 7129.92it/s]"
     ]
    },
    {
     "name": "stdout",
     "output_type": "stream",
     "text": [
      "10  started.\n"
     ]
    },
    {
     "name": "stderr",
     "output_type": "stream",
     "text": [
      "100%|███████████████████████████████████████████████████████████████████████████████████████████████████████████████████████████████████████████████████████| 932240/932240 [02:08<00:00, 7260.43it/s]\n",
      "  0%|                                                                                                                                                         | 636/1024868 [00:00<02:41, 6358.54it/s]"
     ]
    },
    {
     "name": "stdout",
     "output_type": "stream",
     "text": [
      "11  started.\n"
     ]
    },
    {
     "name": "stderr",
     "output_type": "stream",
     "text": [
      "100%|█████████████████████████████████████████████████████████████████████████████████████████████████████████████████████████████████████████████████████| 1024868/1024868 [02:18<00:00, 7395.31it/s]\n",
      "  0%|                                                                                                                                                         | 748/1172517 [00:00<02:38, 7406.11it/s]"
     ]
    },
    {
     "name": "stdout",
     "output_type": "stream",
     "text": [
      "12  started.\n"
     ]
    },
    {
     "name": "stderr",
     "output_type": "stream",
     "text": [
      "100%|█████████████████████████████████████████████████████████████████████████████████████████████████████████████████████████████████████████████████████| 1172517/1172517 [02:38<00:00, 7397.75it/s]\n",
      "  0%|▏                                                                                                                                                       | 1457/1161644 [00:00<02:39, 7281.31it/s]"
     ]
    },
    {
     "name": "stdout",
     "output_type": "stream",
     "text": [
      "13  started.\n"
     ]
    },
    {
     "name": "stderr",
     "output_type": "stream",
     "text": [
      "100%|█████████████████████████████████████████████████████████████████████████████████████████████████████████████████████████████████████████████████████| 1161644/1161644 [02:37<00:00, 7365.24it/s]\n",
      "  0%|▏                                                                                                                                                       | 1472/1081222 [00:00<02:26, 7370.13it/s]"
     ]
    },
    {
     "name": "stdout",
     "output_type": "stream",
     "text": [
      "14  started.\n"
     ]
    },
    {
     "name": "stderr",
     "output_type": "stream",
     "text": [
      "100%|█████████████████████████████████████████████████████████████████████████████████████████████████████████████████████████████████████████████████████| 1081222/1081222 [02:25<00:00, 7416.32it/s]\n",
      "  0%|                                                                                                                                                         | 747/1144037 [00:00<02:33, 7467.43it/s]"
     ]
    },
    {
     "name": "stdout",
     "output_type": "stream",
     "text": [
      "15  started.\n"
     ]
    },
    {
     "name": "stderr",
     "output_type": "stream",
     "text": [
      "100%|█████████████████████████████████████████████████████████████████████████████████████████████████████████████████████████████████████████████████████| 1144037/1144037 [02:35<00:00, 7366.11it/s]\n",
      "  0%|▏                                                                                                                                                       | 1485/1049265 [00:00<02:21, 7417.75it/s]"
     ]
    },
    {
     "name": "stdout",
     "output_type": "stream",
     "text": [
      "16  started.\n"
     ]
    },
    {
     "name": "stderr",
     "output_type": "stream",
     "text": [
      "100%|█████████████████████████████████████████████████████████████████████████████████████████████████████████████████████████████████████████████████████| 1049265/1049265 [02:23<00:00, 7331.73it/s]\n"
     ]
    }
   ],
   "source": [
    "target = {}\n",
    "# record all (gameId, playId, frameId) = (x,y)\n",
    "for i in tqdm(range(len(plays))):\n",
    "    shat = plays.iloc[i]\n",
    "    if shat.target=='-':\n",
    "        continue\n",
    "    else:\n",
    "        gay = shat.target\n",
    "        fuck = weeks[get_week(shat.gameId, shat.playId)].query(\"gameId=={} and playId=={} and displayName==@gay\".format(shat.gameId, shat.playId))\n",
    "        for j in range(len(fuck)):\n",
    "            gig = fuck.iloc[j]\n",
    "            target[(gig.gameId, gig.playId, gig.frameId)] = (gig.x, gig.y)\n",
    "\n",
    "# find fx and fy for every row\n",
    "for j in range(len(weeks)):\n",
    "    print(j, \" started.\")\n",
    "    shit = weeks[j]\n",
    "    dists = []\n",
    "    \n",
    "    for i in tqdm(range(len(shit))):\n",
    "        fuck = shit.iloc[i]\n",
    "        k = (fuck.gameId, fuck.playId, fuck.frameId)\n",
    "        x,y = np.Inf, np.Inf\n",
    "        if k in target:\n",
    "            x, y = target[k]            \n",
    "        dist = math.sqrt((x - fuck.x)**2 + (y-fuck.y)**2)\n",
    "        dists.append(dist)\n",
    "    weeks[j] = shit.assign(distTarget=dists)\n",
    "    weeks[j].to_csv(\"./data/week{}_with_both_dist.csv\".format(j+1))"
   ]
  },
  {
   "cell_type": "code",
   "execution_count": null,
   "metadata": {},
   "outputs": [],
   "source": []
  }
 ],
 "metadata": {
  "kernelspec": {
   "display_name": "flowenv",
   "language": "python",
   "name": "flowenv"
  },
  "language_info": {
   "codemirror_mode": {
    "name": "ipython",
    "version": 3
   },
   "file_extension": ".py",
   "mimetype": "text/x-python",
   "name": "python",
   "nbconvert_exporter": "python",
   "pygments_lexer": "ipython3",
   "version": "3.7.7"
  }
 },
 "nbformat": 4,
 "nbformat_minor": 4
}
